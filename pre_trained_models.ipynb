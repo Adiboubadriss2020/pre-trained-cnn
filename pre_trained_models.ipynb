{
 "cells": [
  {
   "cell_type": "code",
   "execution_count": 70,
   "id": "7f7d157c-78a2-41b3-abfe-60016a595747",
   "metadata": {},
   "outputs": [],
   "source": [
    "#Python 3.9.13\n",
    "import os\n",
    "import shutil\n",
    "# https://scikit-learn.org/stable/modules/generated/sklearn.model_selection.train_test_split.html\n",
    "from sklearn.model_selection import train_test_split\n",
    "\n",
    "# Set the path to the directory containing all the class folders\n",
    "data_dir = 'C:/Users/ADIB/plant/data'\n",
    "\n",
    "# Set the paths for the train, test, and validation directories\n",
    "train_dir = 'C:/Users/ADIB/plant/train'\n",
    "test_dir = 'C:/Users/ADIB/plant/test'\n",
    "valid_dir = 'C:/Users/ADIB/plant/validation'\n",
    "\n",
    "# Set the desired split ratios (e.g., 80% train, 10% test, 10% validation)\n",
    "train_ratio = 0.8\n",
    "test_ratio = 0.1\n",
    "valid_ratio = 0.1\n",
    "\n",
    "# Get the list of class folders\n",
    "class_folders = os.listdir(data_dir)\n",
    "\n",
    "# Iterate over each class folder\n",
    "for class_folder in class_folders:\n",
    "    class_path = os.path.join(data_dir, class_folder)\n",
    "    if os.path.isdir(class_path):\n",
    "        # Get the list of image files in the class folder\n",
    "        images = os.listdir(class_path)\n",
    "\n",
    "        # Split the images into train, test, and validation sets\n",
    "        train_images, test_valid_images = train_test_split(images, test_size=(1 - train_ratio))\n",
    "        test_images, valid_images = train_test_split(test_valid_images, test_size=(valid_ratio / (test_ratio + valid_ratio)))\n",
    "\n",
    "        # Create the destination directories if they don't exist\n",
    "        os.makedirs(os.path.join(train_dir, class_folder), exist_ok=True)\n",
    "        os.makedirs(os.path.join(test_dir, class_folder), exist_ok=True)\n",
    "        os.makedirs(os.path.join(valid_dir, class_folder), exist_ok=True)\n",
    "\n",
    "        # Move the images to their respective directories\n",
    "        for image in train_images:\n",
    "            src = os.path.join(class_path, image)\n",
    "            dst = os.path.join(train_dir, class_folder, image)\n",
    "            shutil.copy(src, dst)\n",
    "\n",
    "        for image in test_images:\n",
    "            src = os.path.join(class_path, image)\n",
    "            dst = os.path.join(test_dir, class_folder, image)\n",
    "            shutil.copy(src, dst)\n",
    "\n",
    "        for image in valid_images:\n",
    "            src = os.path.join(class_path, image)\n",
    "            dst = os.path.join(valid_dir, class_folder, image)\n",
    "            shutil.copy(src, dst)\n"
   ]
  },
  {
   "cell_type": "code",
   "execution_count": 71,
   "id": "1d7de00a-7d76-4c71-869f-353280e30cb8",
   "metadata": {},
   "outputs": [
    {
     "data": {
      "text/plain": [
       "38"
      ]
     },
     "execution_count": 71,
     "metadata": {},
     "output_type": "execute_result"
    }
   ],
   "source": [
    "lst = os.listdir(valid_dir) # your directory path\n",
    "number_files = len(lst)\n",
    "number_files"
   ]
  },
  {
   "cell_type": "markdown",
   "id": "ac7d016f-4208-4c3d-8483-a5554a335ec1",
   "metadata": {},
   "source": [
    "VGG-16 MODEL FOR PLANTVILLAGE DATASET"
   ]
  },
  {
   "cell_type": "code",
   "execution_count": 72,
   "id": "d43796de-1d78-401c-81e9-7e7ef3733b37",
   "metadata": {},
   "outputs": [],
   "source": [
    "\"\"\"\n",
    "@author: OUBADRISS.ADIB\n",
    "\"\"\"\n",
    "from keras.layers import  Dense, Flatten, Dropout\n",
    "from keras.models import Model\n",
    "from keras.applications.vgg16 import VGG16\n",
    "from keras.applications.vgg16 import preprocess_input\n",
    "from keras.preprocessing.image import ImageDataGenerator\n",
    "from keras.models import Sequential\n",
    "from glob import glob\n",
    "import matplotlib.pyplot as plt\n",
    "from tensorflow.keras.optimizers import SGD\n",
    "# re-size all the images to this\n",
    "IMAGE_SIZE = [224, 224,3]\n",
    "# useful for getting number of classes\n",
    "folders = glob('C:/Users/ADIB/plant/train/*')"
   ]
  },
  {
   "cell_type": "code",
   "execution_count": 73,
   "id": "2d420540-60ec-43c1-8af7-b45f7f8a5e10",
   "metadata": {},
   "outputs": [
    {
     "name": "stdout",
     "output_type": "stream",
     "text": [
      "Found 42927 images belonging to 38 classes.\n",
      "Found 5385 images belonging to 38 classes.\n"
     ]
    }
   ],
   "source": [
    "from keras.preprocessing.image import ImageDataGenerator\n",
    "\n",
    "train_datagen = ImageDataGenerator(rescale = 1./255,\n",
    "                                   shear_range = 0.2,\n",
    "                                   zoom_range = 0.2,\n",
    "                                   horizontal_flip = True)\n",
    "\n",
    "val_datagen = ImageDataGenerator(rescale = 1./255)\n",
    "\n",
    "training_set = train_datagen.flow_from_directory('C:/Users/ADIB/plant/train',\n",
    "                                                 target_size = (224, 224),\n",
    "                                                 batch_size = 32,\n",
    "                                                 class_mode = 'categorical')\n",
    "\n",
    "val_set = val_datagen.flow_from_directory('C:/Users/ADIB/plant/validation',\n",
    "                                            target_size = (224, 224),\n",
    "                                            batch_size = 32,\n",
    "                                            class_mode = 'categorical')\n"
   ]
  },
  {
   "cell_type": "code",
   "execution_count": 74,
   "id": "8ef9ec52",
   "metadata": {},
   "outputs": [],
   "source": [
    "# add preprocessing layer to the front of VGG\n",
    "vgg = VGG16(input_shape=IMAGE_SIZE, weights='imagenet', include_top=False)\n",
    "\n",
    "# don't train existing weights\n",
    "for layer in vgg.layers:\n",
    "  layer.trainable = False\n",
    "  \n",
    "\n",
    "# our layers - you can add more if you want\n",
    "x = Flatten()(vgg.output)\n",
    "x = Dense(4096, activation='relu')(x)\n",
    "x = Dropout(0.5)(x)\n",
    "x = Dense(4096, activation='relu')(x)\n",
    "x = Dropout(0.5)(x)\n",
    "prediction = Dense(len(folders), activation='softmax')(x)"
   ]
  },
  {
   "cell_type": "code",
   "execution_count": 75,
   "id": "bdc1de81",
   "metadata": {},
   "outputs": [
    {
     "name": "stdout",
     "output_type": "stream",
     "text": [
      "Model: \"model_6\"\n",
      "_________________________________________________________________\n",
      " Layer (type)                Output Shape              Param #   \n",
      "=================================================================\n",
      " input_12 (InputLayer)       [(None, 224, 224, 3)]     0         \n",
      "                                                                 \n",
      " block1_conv1 (Conv2D)       (None, 224, 224, 64)      1792      \n",
      "                                                                 \n",
      " block1_conv2 (Conv2D)       (None, 224, 224, 64)      36928     \n",
      "                                                                 \n",
      " block1_pool (MaxPooling2D)  (None, 112, 112, 64)      0         \n",
      "                                                                 \n",
      " block2_conv1 (Conv2D)       (None, 112, 112, 128)     73856     \n",
      "                                                                 \n",
      " block2_conv2 (Conv2D)       (None, 112, 112, 128)     147584    \n",
      "                                                                 \n",
      " block2_pool (MaxPooling2D)  (None, 56, 56, 128)       0         \n",
      "                                                                 \n",
      " block3_conv1 (Conv2D)       (None, 56, 56, 256)       295168    \n",
      "                                                                 \n",
      " block3_conv2 (Conv2D)       (None, 56, 56, 256)       590080    \n",
      "                                                                 \n",
      " block3_conv3 (Conv2D)       (None, 56, 56, 256)       590080    \n",
      "                                                                 \n",
      " block3_pool (MaxPooling2D)  (None, 28, 28, 256)       0         \n",
      "                                                                 \n",
      " block4_conv1 (Conv2D)       (None, 28, 28, 512)       1180160   \n",
      "                                                                 \n",
      " block4_conv2 (Conv2D)       (None, 28, 28, 512)       2359808   \n",
      "                                                                 \n",
      " block4_conv3 (Conv2D)       (None, 28, 28, 512)       2359808   \n",
      "                                                                 \n",
      " block4_pool (MaxPooling2D)  (None, 14, 14, 512)       0         \n",
      "                                                                 \n",
      " block5_conv1 (Conv2D)       (None, 14, 14, 512)       2359808   \n",
      "                                                                 \n",
      " block5_conv2 (Conv2D)       (None, 14, 14, 512)       2359808   \n",
      "                                                                 \n",
      " block5_conv3 (Conv2D)       (None, 14, 14, 512)       2359808   \n",
      "                                                                 \n",
      " block5_pool (MaxPooling2D)  (None, 7, 7, 512)         0         \n",
      "                                                                 \n",
      " flatten_11 (Flatten)        (None, 25088)             0         \n",
      "                                                                 \n",
      " dense_16 (Dense)            (None, 4096)              102764544 \n",
      "                                                                 \n",
      " dropout_6 (Dropout)         (None, 4096)              0         \n",
      "                                                                 \n",
      " dense_17 (Dense)            (None, 4096)              16781312  \n",
      "                                                                 \n",
      " dropout_7 (Dropout)         (None, 4096)              0         \n",
      "                                                                 \n",
      " dense_18 (Dense)            (None, 38)                155686    \n",
      "                                                                 \n",
      "=================================================================\n",
      "Total params: 134,416,230\n",
      "Trainable params: 119,701,542\n",
      "Non-trainable params: 14,714,688\n",
      "_________________________________________________________________\n"
     ]
    }
   ],
   "source": [
    "# create a model object\n",
    "model = Model(inputs=vgg.input, outputs=prediction)\n",
    "\n",
    "# view the structure of the model\n",
    "model.summary()\n",
    "\n",
    "# tell the model what cost and optimization method to use\n",
    "optimizer = SGD(learning_rate=0.001)\n",
    "model.compile(\n",
    "  loss='categorical_crossentropy',\n",
    "  optimizer=optimizer,\n",
    "  metrics=['accuracy']\n",
    ")\n"
   ]
  },
  {
   "cell_type": "code",
   "execution_count": 53,
   "id": "dd8da35c",
   "metadata": {},
   "outputs": [
    {
     "name": "stderr",
     "output_type": "stream",
     "text": [
      "C:\\Users\\ADIB\\AppData\\Local\\Temp\\ipykernel_7512\\2117205500.py:2: UserWarning: `Model.fit_generator` is deprecated and will be removed in a future version. Please use `Model.fit`, which supports generators.\n",
      "  r = model.fit_generator(\n"
     ]
    },
    {
     "name": "stdout",
     "output_type": "stream",
     "text": [
      "Epoch 1/5\n",
      "1386/1386 [==============================] - 3342s 2s/step - loss: 0.9503 - accuracy: 0.7822 - val_loss: 0.7820 - val_accuracy: 0.8184\n",
      "Epoch 2/5\n",
      "1386/1386 [==============================] - 3477s 3s/step - loss: 0.7496 - accuracy: 0.8239 - val_loss: 0.6585 - val_accuracy: 0.8425\n",
      "Epoch 3/5\n",
      "1386/1386 [==============================] - 3466s 3s/step - loss: 0.6431 - accuracy: 0.8468 - val_loss: 0.5723 - val_accuracy: 0.8587\n",
      "Epoch 4/5\n",
      "1386/1386 [==============================] - 3419s 2s/step - loss: 0.5705 - accuracy: 0.8622 - val_loss: 0.5209 - val_accuracy: 0.8717\n",
      "Epoch 5/5\n",
      "1386/1386 [==============================] - 3375s 2s/step - loss: 0.5229 - accuracy: 0.8718 - val_loss: 0.4754 - val_accuracy: 0.8824\n"
     ]
    }
   ],
   "source": [
    "# fit the model\n",
    "r = model.fit_generator(\n",
    "  training_set,\n",
    "  validation_data=val_set,\n",
    "  epochs=5,\n",
    "  steps_per_epoch=len(training_set),\n",
    "  validation_steps=len(test_set)\n",
    ")"
   ]
  },
  {
   "cell_type": "code",
   "execution_count": 44,
   "id": "f7bdf762-2aca-410e-b83a-77d4bede391a",
   "metadata": {},
   "outputs": [
    {
     "data": {
      "text/plain": [
       "1386"
      ]
     },
     "execution_count": 44,
     "metadata": {},
     "output_type": "execute_result"
    }
   ],
   "source": [
    "len(training_set)"
   ]
  },
  {
   "cell_type": "code",
   "execution_count": 76,
   "id": "f9219d88",
   "metadata": {},
   "outputs": [
    {
     "data": {
      "image/png": "[encoded data removed]",
      "text/plain": [
       "<Figure size 640x480 with 1 Axes>"
      ]
     },
     "metadata": {},
     "output_type": "display_data"
    },
    {
     "data": {
      "image/png": "[encoded data removed]",
      "text/plain": [
       "<Figure size 640x480 with 1 Axes>"
      ]
     },
     "metadata": {},
     "output_type": "display_data"
    },
    {
     "data": {
      "text/plain": [
       "<Figure size 640x480 with 0 Axes>"
      ]
     },
     "metadata": {},
     "output_type": "display_data"
    }
   ],
   "source": [
    "# loss\n",
    "plt.plot(r.history['loss'], label='train loss')\n",
    "plt.plot(r.history['val_loss'], label='val loss')\n",
    "plt.legend()\n",
    "plt.show()\n",
    "plt.savefig('LossVal_loss')\n",
    "\n",
    "# accuracies\n",
    "plt.plot(r.history['accuracy'], label='train acc')\n",
    "plt.plot(r.history['val_accuracy'], label='val acc')\n",
    "plt.legend()\n",
    "plt.show()\n",
    "plt.savefig('AccVal_acc')\n",
    "\n",
    "from keras.models import load_model\n",
    "\n",
    "model.save('new_model.h5')\n"
   ]
  },
  {
   "cell_type": "code",
   "execution_count": null,
   "id": "8c4007cc",
   "metadata": {},
   "outputs": [],
   "source": []
  }
 ],
 "metadata": {
  "kernelspec": {
   "display_name": "Python 3 (ipykernel)",
   "language": "python",
   "name": "python3"
  },
  "language_info": {
   "codemirror_mode": {
    "name": "ipython",
    "version": 3
   },
   "file_extension": ".py",
   "mimetype": "text/x-python",
   "name": "python",
   "nbconvert_exporter": "python",
   "pygments_lexer": "ipython3",
   "version": "3.9.13"
  }
 },
 "nbformat": 4,
 "nbformat_minor": 5
}
